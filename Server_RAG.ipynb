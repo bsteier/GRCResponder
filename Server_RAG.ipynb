{
 "cells": [
  {
   "cell_type": "code",
   "id": "initial_id",
   "metadata": {
    "collapsed": true,
    "ExecuteTime": {
     "end_time": "2025-04-15T01:59:11.605588Z",
     "start_time": "2025-04-15T01:58:56.231149Z"
    }
   },
   "source": [
    "from pathlib import Path\n",
    "import chromadb\n",
    "from chromadb.utils.embedding_functions import SentenceTransformerEmbeddingFunction\n",
    "from langgraph.graph import MessagesState, StateGraph\n",
    "from langchain_core.tools import tool\n",
    "from langchain_core.messages import SystemMessage, HumanMessage, AIMessage\n",
    "from langgraph.prebuilt import ToolNode\n",
    "from langgraph.graph import END\n",
    "from langgraph.prebuilt import tools_condition\n",
    "from langchain_core.documents import Document\n",
    "from langchain.chat_models import init_chat_model\n",
    "import time\n",
    "\n",
    "CHROMA_HOST = \"http://20.14.88.251:8000/\"\n",
    "\n",
    "embedding_model_name = 'all-mpnet-base-v2'\n",
    "# embedding_model_name = 'all-MiniLM-L6-v2'\n",
    "\n",
    "client = chromadb.HttpClient(host=CHROMA_HOST)\n",
    "\n",
    "\n",
    "embedding_function = SentenceTransformerEmbeddingFunction(model_name=embedding_model_name)\n",
    "\n",
    "collections = client.list_collections()\n",
    "\n",
    "collection = client.get_collection(name=collections[2], embedding_function=embedding_function)\n",
    "\n",
    "\n",
    "llm = init_chat_model(\"llama3.2:3b-instruct-q8_0\", model_provider=\"ollama\")\n",
    "\n",
    "# Set up retrieval tool\n",
    "K = 3  # Default number of documents to retrieve\n",
    "\n",
    "@tool(response_format=\"content_and_artifact\")\n",
    "def retrieve(query: str):\n",
    "    \"\"\"Retrieve information related to a query.\"\"\"\n",
    "    global K\n",
    "    start_time = time.time()\n",
    "    # Query ChromaDB directly\n",
    "    results = collection.query(\n",
    "        query_texts=[query],\n",
    "        n_results=K,\n",
    "    )\n",
    "\n",
    "    # Format results for LangChain compatibility\n",
    "    retrieved_docs = []\n",
    "    for i in range(len(results['ids'][0])):\n",
    "        doc_id = results['ids'][0][i]\n",
    "        content = results['documents'][0][i]\n",
    "        metadata = results['metadatas'][0][i] if results['metadatas'][0] else {}\n",
    "\n",
    "\n",
    "        doc = Document(page_content=content, metadata=metadata)\n",
    "        retrieved_docs.append(doc)\n",
    "\n",
    "    serialized = \"\\n\\n\".join(\n",
    "        (f\"Source: {doc.metadata}\\n\" f\"Content: {doc.page_content}\")\n",
    "        for doc in retrieved_docs\n",
    "    )\n",
    "    # print(retrieved_docs,serialized)\n",
    "    end_time = time.time()\n",
    "\n",
    "    elapsed_time = end_time - start_time\n",
    "    print(f\"Retrieved {len(retrieved_docs)} documents in {elapsed_time} seconds.\")\n",
    "    return serialized, retrieved_docs\n",
    "\n",
    "# Build the graph\n",
    "graph_builder = StateGraph(MessagesState)\n",
    "\n",
    "def query_or_respond(state: MessagesState):\n",
    "    \"\"\"Generate tool call for retrieval or respond.\"\"\"\n",
    "    llm_with_tools = llm.bind_tools([retrieve])\n",
    "    response = llm_with_tools.invoke(state[\"messages\"])\n",
    "    return {\"messages\": [response]}\n",
    "\n",
    "# Step 2: Execute the retrieval\n",
    "tools = ToolNode([retrieve])\n",
    "\n",
    "# Step 3: Generate a response using the retrieved content\n",
    "def generate(state: MessagesState):\n",
    "    \"\"\"Generate answer.\"\"\"\n",
    "    # Get generated ToolMessages\n",
    "    recent_tool_messages = []\n",
    "    for message in reversed(state[\"messages\"]):\n",
    "        if message.type == \"tool\":\n",
    "            recent_tool_messages.append(message)\n",
    "        else:\n",
    "            break\n",
    "    tool_messages = recent_tool_messages[::-1]\n",
    "\n",
    "    # Format into prompt\n",
    "    docs_content = \"\\n\\n\".join(doc.content for doc in tool_messages)\n",
    "    system_message_content = (\n",
    "        \"You are an assistant for question-answering tasks. \"\n",
    "        \"You are an expert on general rate cases. \"\n",
    "        \"Use the following pieces of retrieved context to answer \"\n",
    "        \"the question. If you don't know the answer, say that you \"\n",
    "        \"don't know.\"\n",
    "        \"\\n\\n\"\n",
    "        f\"{docs_content}\"\n",
    "    )\n",
    "\n",
    "    conversation_messages = [\n",
    "        message\n",
    "        for message in state[\"messages\"]\n",
    "        if message.type in (\"human\", \"system\")\n",
    "        or (message.type == \"ai\" and not message.tool_calls)\n",
    "    ]\n",
    "    prompt = [SystemMessage(system_message_content)] + conversation_messages\n",
    "\n",
    "    # Run\n",
    "    response = llm.invoke(prompt)\n",
    "    return {\"messages\": [response]}\n",
    "\n",
    "# Set up the graph connections\n",
    "graph_builder.add_node(query_or_respond)\n",
    "graph_builder.add_node(tools)\n",
    "graph_builder.add_node(generate)\n",
    "\n",
    "graph_builder.set_entry_point(\"query_or_respond\")\n",
    "graph_builder.add_conditional_edges(\n",
    "    \"query_or_respond\",\n",
    "    tools_condition,\n",
    "    {END: END, \"tools\": \"tools\"},\n",
    ")\n",
    "graph_builder.add_edge(\"tools\", \"generate\")\n",
    "graph_builder.add_edge(\"generate\", END)\n",
    "\n",
    "graph = graph_builder.compile()\n",
    "\n",
    "# Main loop for interaction\n",
    "def main():\n",
    "    show_tool_output = True  # Set to True if you want to see tool outputs\n",
    "    while True:\n",
    "        input_message = input()\n",
    "        if input_message == \"exit\":\n",
    "            break\n",
    "\n",
    "        start_time = time.time()\n",
    "\n",
    "        for step in graph.stream(\n",
    "            {\"messages\": [{\"role\": \"user\", \"content\": input_message}]},\n",
    "            stream_mode=\"values\",\n",
    "        ):\n",
    "            if show_tool_output:\n",
    "                step[\"messages\"][-1].pretty_print()\n",
    "            else:\n",
    "                evnt = step[\"messages\"][-1]\n",
    "                if (type(evnt) == HumanMessage or type(evnt) == AIMessage) and evnt.content != '':\n",
    "                    evnt.pretty_print()\n",
    "\n",
    "        end_time = time.time()\n",
    "\n",
    "        elapsed_time = end_time - start_time\n",
    "        print(f\"\\n========================\\n\\tLLM + Retrieval call took {elapsed_time:.2f} seconds\\n========================\\n\")\n"
   ],
   "outputs": [
    {
     "name": "stderr",
     "output_type": "stream",
     "text": [
      "C:\\Users\\Elijah\\anaconda3\\envs\\GRCTools\\lib\\site-packages\\tqdm\\auto.py:21: TqdmWarning: IProgress not found. Please update jupyter and ipywidgets. See https://ipywidgets.readthedocs.io/en/stable/user_install.html\n",
      "  from .autonotebook import tqdm as notebook_tqdm\n"
     ]
    }
   ],
   "execution_count": 1
  },
  {
   "metadata": {
    "ExecuteTime": {
     "end_time": "2025-04-15T02:00:06.409230Z",
     "start_time": "2025-04-15T01:59:11.623534Z"
    }
   },
   "cell_type": "code",
   "source": "main()",
   "id": "9c0f605baa85fd98",
   "outputs": [
    {
     "name": "stdout",
     "output_type": "stream",
     "text": [
      "================================\u001B[1m Human Message \u001B[0m=================================\n",
      "\n",
      "What documents do you have access to?\n",
      "==================================\u001B[1m Ai Message \u001B[0m==================================\n",
      "Tool Calls:\n",
      "  retrieve (60d8d6c8-b2eb-4123-a015-395ab48132ef)\n",
      " Call ID: 60d8d6c8-b2eb-4123-a015-395ab48132ef\n",
      "  Args:\n",
      "    query: all available documents\n",
      "Retrieved 2 documents in 2.6690289974212646 seconds.\n",
      "=================================\u001B[1m Tool Message \u001B[0m=================================\n",
      "Name: retrieve\n",
      "\n",
      "Source: {'chunk_index': 0, 'document_id': 4, 'document_type': 'APPLICATION', 'filed_by': 'San Diego Gas & Electric Company', 'proceeding_id': 3, 'proceeding_number': 'A2503013', 'source_url': 'https://docs.cpuc.ca.gov/SearchRes.aspx?DocFormat=ALL&DocID=559995284', 'tab_name': 'Documents', 'text': 'Document: Application of San Diego Gas & Electric Company (U902M) for Authority to Establish Its Authorized Cost of Capital for Utility Operations for 2026 and to Reset the Annual Cost of Capital Mechanism.\\nType: APPLICATION\\nFiled By: San Diego Gas & Electric Company\\nFiling Date: 2025-03-20'}\n",
      "Content: Document: Application of San Diego Gas & Electric Company (U902M) for Authority to Establish Its Authorized Cost of Capital for Utility Operations for 2026 and to Reset the Annual Cost of Capital Mechanism.\n",
      "Type: APPLICATION\n",
      "Filed By: San Diego Gas & Electric Company\n",
      "Filing Date: 2025-03-20\n",
      "\n",
      "Source: {'chunk_index': 0, 'document_id': 3, 'document_type': 'AMENDMENT', 'filed_by': 'San Diego Gas & Electric Company', 'proceeding_id': 3, 'proceeding_number': 'A2503013', 'source_url': 'https://docs.cpuc.ca.gov/SearchRes.aspx?DocFormat=ALL&DocID=560101145', 'tab_name': 'Documents', 'text': 'Document: Amendment to Test Year 2026 Cost of Capital Application of SDG&E  (U902M) dated March 20, 2025. [ATTACHMENT G TO APPLICATION]\\nType: AMENDMENT\\nFiled By: San Diego Gas & Electric Company\\nFiling Date: 2025-03-24'}\n",
      "Content: Document: Amendment to Test Year 2026 Cost of Capital Application of SDG&E  (U902M) dated March 20, 2025. [ATTACHMENT G TO APPLICATION]\n",
      "Type: AMENDMENT\n",
      "Filed By: San Diego Gas & Electric Company\n",
      "Filing Date: 2025-03-24\n",
      "==================================\u001B[1m Ai Message \u001B[0m==================================\n",
      "\n",
      "I have access to two documents:\n",
      "\n",
      "1. An \"Application\" document with the title \"Application of San Diego Gas & Electric Company (U902M) for Authority to Establish Its Authorized Cost of Capital for Utility Operations for 2026 and to Reset the Annual Cost of Capital Mechanism.\" This document was filed by San Diego Gas & Electric Company on March 20, 2025.\n",
      "2. An \"Amendment\" document with the title \"Amendment to Test Year 2026 Cost of Capital Application of SDG&E  (U902M) dated March 20, 2025.\" This amendment document was also filed by San Diego Gas & Electric Company on March 24, 2025.\n",
      "\n",
      "Please note that these documents are related to a specific proceeding, with proceeding numbers and IDs. If you're looking for general information or other types of documents, I may not have access to them.\n",
      "\n",
      "========================\n",
      "\tLLM + Retrieval call took 39.72 seconds\n",
      "========================\n",
      "\n"
     ]
    },
    {
     "ename": "KeyboardInterrupt",
     "evalue": "Interrupted by user",
     "output_type": "error",
     "traceback": [
      "\u001B[1;31m---------------------------------------------------------------------------\u001B[0m",
      "\u001B[1;31mKeyboardInterrupt\u001B[0m                         Traceback (most recent call last)",
      "Cell \u001B[1;32mIn[2], line 1\u001B[0m\n\u001B[1;32m----> 1\u001B[0m \u001B[43mmain\u001B[49m\u001B[43m(\u001B[49m\u001B[43m)\u001B[49m\n",
      "Cell \u001B[1;32mIn[1], line 137\u001B[0m, in \u001B[0;36mmain\u001B[1;34m()\u001B[0m\n\u001B[0;32m    135\u001B[0m show_tool_output \u001B[38;5;241m=\u001B[39m \u001B[38;5;28;01mTrue\u001B[39;00m  \u001B[38;5;66;03m# Set to True if you want to see tool outputs\u001B[39;00m\n\u001B[0;32m    136\u001B[0m \u001B[38;5;28;01mwhile\u001B[39;00m \u001B[38;5;28;01mTrue\u001B[39;00m:\n\u001B[1;32m--> 137\u001B[0m     input_message \u001B[38;5;241m=\u001B[39m \u001B[38;5;28;43minput\u001B[39;49m\u001B[43m(\u001B[49m\u001B[43m)\u001B[49m\n\u001B[0;32m    138\u001B[0m     \u001B[38;5;28;01mif\u001B[39;00m input_message \u001B[38;5;241m==\u001B[39m \u001B[38;5;124m\"\u001B[39m\u001B[38;5;124mexit\u001B[39m\u001B[38;5;124m\"\u001B[39m:\n\u001B[0;32m    139\u001B[0m         \u001B[38;5;28;01mbreak\u001B[39;00m\n",
      "File \u001B[1;32m~\\anaconda3\\envs\\GRCTools\\lib\\site-packages\\ipykernel\\kernelbase.py:1282\u001B[0m, in \u001B[0;36mKernel.raw_input\u001B[1;34m(self, prompt)\u001B[0m\n\u001B[0;32m   1280\u001B[0m     msg \u001B[38;5;241m=\u001B[39m \u001B[38;5;124m\"\u001B[39m\u001B[38;5;124mraw_input was called, but this frontend does not support input requests.\u001B[39m\u001B[38;5;124m\"\u001B[39m\n\u001B[0;32m   1281\u001B[0m     \u001B[38;5;28;01mraise\u001B[39;00m StdinNotImplementedError(msg)\n\u001B[1;32m-> 1282\u001B[0m \u001B[38;5;28;01mreturn\u001B[39;00m \u001B[38;5;28;43mself\u001B[39;49m\u001B[38;5;241;43m.\u001B[39;49m\u001B[43m_input_request\u001B[49m\u001B[43m(\u001B[49m\n\u001B[0;32m   1283\u001B[0m \u001B[43m    \u001B[49m\u001B[38;5;28;43mstr\u001B[39;49m\u001B[43m(\u001B[49m\u001B[43mprompt\u001B[49m\u001B[43m)\u001B[49m\u001B[43m,\u001B[49m\n\u001B[0;32m   1284\u001B[0m \u001B[43m    \u001B[49m\u001B[38;5;28;43mself\u001B[39;49m\u001B[38;5;241;43m.\u001B[39;49m\u001B[43m_parent_ident\u001B[49m\u001B[43m[\u001B[49m\u001B[38;5;124;43m\"\u001B[39;49m\u001B[38;5;124;43mshell\u001B[39;49m\u001B[38;5;124;43m\"\u001B[39;49m\u001B[43m]\u001B[49m\u001B[43m,\u001B[49m\n\u001B[0;32m   1285\u001B[0m \u001B[43m    \u001B[49m\u001B[38;5;28;43mself\u001B[39;49m\u001B[38;5;241;43m.\u001B[39;49m\u001B[43mget_parent\u001B[49m\u001B[43m(\u001B[49m\u001B[38;5;124;43m\"\u001B[39;49m\u001B[38;5;124;43mshell\u001B[39;49m\u001B[38;5;124;43m\"\u001B[39;49m\u001B[43m)\u001B[49m\u001B[43m,\u001B[49m\n\u001B[0;32m   1286\u001B[0m \u001B[43m    \u001B[49m\u001B[43mpassword\u001B[49m\u001B[38;5;241;43m=\u001B[39;49m\u001B[38;5;28;43;01mFalse\u001B[39;49;00m\u001B[43m,\u001B[49m\n\u001B[0;32m   1287\u001B[0m \u001B[43m\u001B[49m\u001B[43m)\u001B[49m\n",
      "File \u001B[1;32m~\\anaconda3\\envs\\GRCTools\\lib\\site-packages\\ipykernel\\kernelbase.py:1325\u001B[0m, in \u001B[0;36mKernel._input_request\u001B[1;34m(self, prompt, ident, parent, password)\u001B[0m\n\u001B[0;32m   1322\u001B[0m \u001B[38;5;28;01mexcept\u001B[39;00m \u001B[38;5;167;01mKeyboardInterrupt\u001B[39;00m:\n\u001B[0;32m   1323\u001B[0m     \u001B[38;5;66;03m# re-raise KeyboardInterrupt, to truncate traceback\u001B[39;00m\n\u001B[0;32m   1324\u001B[0m     msg \u001B[38;5;241m=\u001B[39m \u001B[38;5;124m\"\u001B[39m\u001B[38;5;124mInterrupted by user\u001B[39m\u001B[38;5;124m\"\u001B[39m\n\u001B[1;32m-> 1325\u001B[0m     \u001B[38;5;28;01mraise\u001B[39;00m \u001B[38;5;167;01mKeyboardInterrupt\u001B[39;00m(msg) \u001B[38;5;28;01mfrom\u001B[39;00m \u001B[38;5;28;01mNone\u001B[39;00m\n\u001B[0;32m   1326\u001B[0m \u001B[38;5;28;01mexcept\u001B[39;00m \u001B[38;5;167;01mException\u001B[39;00m:\n\u001B[0;32m   1327\u001B[0m     \u001B[38;5;28mself\u001B[39m\u001B[38;5;241m.\u001B[39mlog\u001B[38;5;241m.\u001B[39mwarning(\u001B[38;5;124m\"\u001B[39m\u001B[38;5;124mInvalid Message:\u001B[39m\u001B[38;5;124m\"\u001B[39m, exc_info\u001B[38;5;241m=\u001B[39m\u001B[38;5;28;01mTrue\u001B[39;00m)\n",
      "\u001B[1;31mKeyboardInterrupt\u001B[0m: Interrupted by user"
     ]
    }
   ],
   "execution_count": 2
  },
  {
   "metadata": {
    "ExecuteTime": {
     "end_time": "2025-04-11T21:45:29.770001Z",
     "start_time": "2025-04-11T21:45:29.643629Z"
    }
   },
   "cell_type": "code",
   "source": [
    "import torch\n",
    "\n",
    "print(f\"CUDA available: {torch.cuda.is_available()}\")"
   ],
   "id": "bc8bd98475d65e29",
   "outputs": [
    {
     "name": "stdout",
     "output_type": "stream",
     "text": [
      "CUDA available: False\n"
     ]
    }
   ],
   "execution_count": 4
  },
  {
   "metadata": {
    "ExecuteTime": {
     "end_time": "2025-04-15T00:44:09.920623Z",
     "start_time": "2025-04-15T00:44:09.833159Z"
    }
   },
   "cell_type": "code",
   "source": "collections = client.list_collections()",
   "id": "94c1ade784c137d7",
   "outputs": [],
   "execution_count": 5
  },
  {
   "metadata": {
    "ExecuteTime": {
     "end_time": "2025-04-15T00:44:34.585403Z",
     "start_time": "2025-04-15T00:44:34.480392Z"
    }
   },
   "cell_type": "code",
   "source": "client.get_collection(collections[0])",
   "id": "d5a8839b2d7887e5",
   "outputs": [
    {
     "data": {
      "text/plain": [
       "Collection(name=proceeding_a2503011)"
      ]
     },
     "execution_count": 8,
     "metadata": {},
     "output_type": "execute_result"
    }
   ],
   "execution_count": 8
  },
  {
   "metadata": {
    "ExecuteTime": {
     "end_time": "2025-04-15T00:50:59.467858Z",
     "start_time": "2025-04-15T00:50:59.454334Z"
    }
   },
   "cell_type": "code",
   "source": "collections",
   "id": "dd6f3d79c1aadb78",
   "outputs": [
    {
     "data": {
      "text/plain": [
       "['proceeding_a2503011',\n",
       " 'test_collection',\n",
       " 'proceeding_a2503013',\n",
       " 'proceeding_a2503012']"
      ]
     },
     "execution_count": 10,
     "metadata": {},
     "output_type": "execute_result"
    }
   ],
   "execution_count": 10
  },
  {
   "metadata": {
    "ExecuteTime": {
     "end_time": "2025-04-15T01:07:47.023449Z",
     "start_time": "2025-04-15T01:07:46.901541Z"
    }
   },
   "cell_type": "code",
   "source": "collection.count()",
   "id": "1052bce9c4d2b581",
   "outputs": [
    {
     "data": {
      "text/plain": [
       "0"
      ]
     },
     "execution_count": 19,
     "metadata": {},
     "output_type": "execute_result"
    }
   ],
   "execution_count": 19
  },
  {
   "metadata": {
    "ExecuteTime": {
     "end_time": "2025-04-15T01:08:30.959274Z",
     "start_time": "2025-04-15T01:08:30.856219Z"
    }
   },
   "cell_type": "code",
   "source": "client.get_collection(name=collections[3]).count()",
   "id": "3bb2770eaebe77a2",
   "outputs": [
    {
     "data": {
      "text/plain": [
       "1"
      ]
     },
     "execution_count": 23,
     "metadata": {},
     "output_type": "execute_result"
    }
   ],
   "execution_count": 23
  },
  {
   "metadata": {
    "ExecuteTime": {
     "end_time": "2025-04-15T01:18:32.656445Z",
     "start_time": "2025-04-15T01:18:32.239937Z"
    }
   },
   "cell_type": "code",
   "source": "{collections[i]: client.get_collection(name=collections[i]).count() for i in range(len(collections))}",
   "id": "8344f13deeeea976",
   "outputs": [
    {
     "data": {
      "text/plain": [
       "{'proceeding_a2503011': 1,\n",
       " 'test_collection': 0,\n",
       " 'proceeding_a2503013': 2,\n",
       " 'proceeding_a2503012': 1}"
      ]
     },
     "execution_count": 33,
     "metadata": {},
     "output_type": "execute_result"
    }
   ],
   "execution_count": 33
  },
  {
   "metadata": {},
   "cell_type": "code",
   "outputs": [],
   "execution_count": null,
   "source": "",
   "id": "d0553f6a6c193e89"
  }
 ],
 "metadata": {
  "kernelspec": {
   "display_name": "Python 3",
   "language": "python",
   "name": "python3"
  },
  "language_info": {
   "codemirror_mode": {
    "name": "ipython",
    "version": 2
   },
   "file_extension": ".py",
   "mimetype": "text/x-python",
   "name": "python",
   "nbconvert_exporter": "python",
   "pygments_lexer": "ipython2",
   "version": "2.7.6"
  }
 },
 "nbformat": 4,
 "nbformat_minor": 5
}
